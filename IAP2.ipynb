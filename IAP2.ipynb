{
 "cells": [
  {
   "cell_type": "markdown",
   "metadata": {},
   "source": [
    "# Projeto 2 GRUPO 10\n",
    "\n",
    "\n",
    "\n",
    "Diogo Parente 23525\n",
    "Gabriel Jablonski 21958\n",
    "Juciano Farias 21875\n",
    "\n",
    "Professor: Joaquim Silva\n",
    "\n",
    "DataSet Link: https://www.kaggle.com/datasets/rafsunahmad/world-population-growth\n",
    "\n",
    "\n",
    "Para as regras de Associação:\n",
    "\n",
    "DataSet Link: https://www.kaggle.com/datasets/aungpyaeap/supermarket-sales?resource=download"
   ]
  },
  {
   "cell_type": "markdown",
   "metadata": {},
   "source": [
    "---\n",
    "---\n",
    "\n",
    "# Classificação Automática\n",
    "\n",
    "## Objetivo\n",
    "\n",
    "Analisar o crescimento populacional das cidades entre 2022 e 2023, classificando-as em categorias de crescimento (baixo, moderado, alto) para identificar padrões significativos e auxiliar no planeamento urbano e políticas públicas.\n",
    "\n"
   ]
  },
  {
   "cell_type": "markdown",
   "metadata": {},
   "source": [
    "## Algoritmos Escolhidos\n",
    "\n",
    "- Para a tarefa de classificação, foram selecionados dois algoritmos: \n",
    "- **Random Forest e Decision Tree Classifier.**\n",
    "- O Random Forest foi configurado com 100 árvores e profundidade máxima de 5\n",
    "- Decision Tree Classifier foi utilizado com profundidade máxima de 5\n"
   ]
  },
  {
   "cell_type": "markdown",
   "metadata": {},
   "source": [
    "## Critérios de Seleção de Dados\n",
    "\n",
    "Os dados foram selecionados com base na disponibilidade de informações sobre a população das cidades ao de 2 anos, garantindo representatividade global e abrangendo um período significativo para análise de tendências."
   ]
  },
  {
   "cell_type": "markdown",
   "metadata": {},
   "source": [
    "## Preparação dos Dados\n",
    "\n",
    "- Os dados foram preparados através dos seguintes passos:\n",
    "\n",
    "- Conversão da coluna 'city' para formato numérico usando LabelEncoder.\n",
    " -Cálculo da taxa de crescimento percentual da população de 2022 para 2023.\n",
    "- Categorização da taxa de crescimento em três classes: baixo, moderado e alto.\n",
    "- Tratamento de valores ausentes e seleção de características relevantes ('population_in_2022', 'population_growthRate', 'city')."
   ]
  },
  {
   "cell_type": "markdown",
   "metadata": {},
   "source": [
    "## Aplicação dos Algoritmos de ML e Avaliação dos Modelos\n",
    "\n",
    "- Os modelos foram treinados usando os conjuntos de treino e teste. A performance foi avaliada através de:\n",
    "\n",
    "- Matriz de confusão.\n",
    "- Pontuação de precisão.\n",
    "- Relatório de classificação, incluindo métricas como precisão, recall e F1-score."
   ]
  },
  {
   "cell_type": "code",
   "execution_count": 56,
   "metadata": {},
   "outputs": [],
   "source": [
    "import pandas as pd\n",
    "import numpy as np\n",
    "\n",
    "from sklearn.metrics import confusion_matrix, classification_report, accuracy_score\n",
    "from sklearn.preprocessing import StandardScaler\n",
    "from sklearn.cluster import KMeans\n",
    "from imblearn.over_sampling import RandomOverSampler\n",
    "from sklearn.ensemble import RandomForestClassifier\n",
    "from sklearn.model_selection import train_test_split\n",
    "from sklearn.preprocessing import LabelEncoder\n",
    "from sklearn.impute import SimpleImputer\n",
    "from sklearn.tree import DecisionTreeClassifier\n",
    "from sklearn.cluster import KMeans\n",
    "import matplotlib.pyplot as plt\n",
    "from kneed import KneeLocator\n",
    "from mlxtend.preprocessing import TransactionEncoder\n",
    "from mlxtend.frequent_patterns import apriori, association_rules\n"
   ]
  },
  {
   "cell_type": "code",
   "execution_count": 67,
   "metadata": {},
   "outputs": [],
   "source": [
    "# Carregar o conjunto de dados de vendas do supermercado\n",
    "data = pd.read_csv('./world-country-populations.csv')\n"
   ]
  },
  {
   "cell_type": "code",
   "execution_count": 34,
   "metadata": {},
   "outputs": [
    {
     "name": "stdout",
     "output_type": "stream",
     "text": [
      "Confusion Matrix:\n",
      "[[  8   1   0]\n",
      " [  1  97   1]\n",
      " [  0   0 126]]\n",
      "Accuracy Score: 0.9871794871794872\n",
      "Classification Report:\n",
      "              precision    recall  f1-score   support\n",
      "\n",
      "           0       0.89      0.89      0.89         9\n",
      "           1       0.99      0.98      0.98        99\n",
      "           2       0.99      1.00      1.00       126\n",
      "\n",
      "    accuracy                           0.99       234\n",
      "   macro avg       0.96      0.96      0.96       234\n",
      "weighted avg       0.99      0.99      0.99       234\n",
      "\n",
      "                       Importance\n",
      "population_growthRate    0.902570\n",
      "city                     0.049038\n",
      "population_in_2022       0.048392\n"
     ]
    }
   ],
   "source": [
    "# Convertendo a coluna 'city' para numérica\n",
    "le = LabelEncoder()\n",
    "df['city'] = le.fit_transform(df['city'])\n",
    "\n",
    "# Calculando a taxa de crescimento percentual da população de 2022 para 2023\n",
    "df['growth_category'] = (df['population_in_2023'] - df['population_in_2022']) / df['population_in_2022']\n",
    "# Definindo categorias de crescimento (por exemplo, 0: baixo, 1: moderado, 2: alto)\n",
    "df['growth_category'] = pd.cut(df['growth_category'], bins=[-np.inf, 0, 0.02, np.inf], labels=[0, 1, 2])\n",
    "\n",
    "# Preparando os dados\n",
    "imp = SimpleImputer(missing_values=np.nan, strategy='mean')\n",
    "features_columns = ['population_in_2022', 'population_growthRate', 'city']\n",
    "X = df[features_columns].values  # Matriz de recursos\n",
    "Y = df['growth_category'].values  # Alvo\n",
    "imp.fit(X)\n",
    "X = imp.transform(X)\n",
    "\n",
    "# Dividindo os dados em conjuntos de treino e teste\n",
    "X_train, X_test, Y_train, Y_test = train_test_split(X, Y, test_size=0.3, random_state=0)\n",
    "\n",
    "# Treinamento do Modelo Random Forest Classifier com Ajuste de Hiperparâmetros\n",
    "classifier = RandomForestClassifier(n_estimators=100, max_depth=5, random_state=0)\n",
    "classifier.fit(X_train, Y_train)\n",
    "\n",
    "# Avaliação do Modelo\n",
    "predicted = classifier.predict(X_test)\n",
    "print('Confusion Matrix:')\n",
    "print(confusion_matrix(Y_test, predicted))\n",
    "print('Accuracy Score:', accuracy_score(Y_test, predicted))\n",
    "print('Classification Report:')\n",
    "print(classification_report(Y_test, predicted))\n",
    "\n",
    "# Análise de Importância das Features (Opcional)\n",
    "importances = classifier.feature_importances_\n",
    "feature_importances = pd.DataFrame(importances, index=features_columns, columns=['Importance']).sort_values('Importance', ascending=False)\n",
    "print(feature_importances)"
   ]
  },
  {
   "cell_type": "markdown",
   "metadata": {},
   "source": [
    "## Performance Geral:\n",
    "\n",
    "- A matriz de confusão e o relatório de classificação indicam que o modelo tem uma alta precisão geral (Accuracy Score: 0.9871794871794872), sugerindo que ele é muito bom a classificar corretamente as instâncias do conjunto de teste.\n",
    "- As métricas de precisão, recall e pontuação F1 para as classes 1 e 2 são todas muito altas, próximas ou iguais a 1, o que indica um desempenho quase perfeito."
   ]
  },
  {
   "cell_type": "code",
   "execution_count": 13,
   "metadata": {},
   "outputs": [
    {
     "name": "stdout",
     "output_type": "stream",
     "text": [
      "Confusion Matrix:\n",
      "[[  9   0   0]\n",
      " [  1  97   1]\n",
      " [  0   0 126]]\n",
      "Accuracy Score: 0.9914529914529915\n",
      "Classification Report:\n",
      "              precision    recall  f1-score   support\n",
      "\n",
      "           0       0.90      1.00      0.95         9\n",
      "           1       1.00      0.98      0.99        99\n",
      "           2       0.99      1.00      1.00       126\n",
      "\n",
      "    accuracy                           0.99       234\n",
      "   macro avg       0.96      0.99      0.98       234\n",
      "weighted avg       0.99      0.99      0.99       234\n",
      "\n",
      "                       Importance\n",
      "population_growthRate         1.0\n",
      "population_in_2022            0.0\n",
      "city                          0.0\n"
     ]
    }
   ],
   "source": [
    "\n",
    "# Treinamento do Modelo Decision Tree Classifier\n",
    "classifier = DecisionTreeClassifier(max_depth=5, random_state=0)\n",
    "classifier.fit(X_train, Y_train)\n",
    "\n",
    "# Avaliação do Modelo\n",
    "predicted = classifier.predict(X_test)\n",
    "print('Confusion Matrix:')\n",
    "print(confusion_matrix(Y_test, predicted))\n",
    "print('Accuracy Score:', accuracy_score(Y_test, predicted))\n",
    "print('Classification Report:')\n",
    "print(classification_report(Y_test, predicted))\n",
    "\n",
    "# Análise de Importância das Features (Opcional)\n",
    "importances = classifier.feature_importances_\n",
    "feature_importances = pd.DataFrame(importances, index=features_columns, columns=['Importance']).sort_values('Importance', ascending=False)\n",
    "print(feature_importances)"
   ]
  },
  {
   "cell_type": "markdown",
   "metadata": {},
   "source": [
    "## Performance Geral:\n",
    "\n",
    "\n",
    "O modelo alcançou uma pontuação de precisão muito alta de aproximadamente 99.15%, o que indica que o modelo foi capaz de classificar corretamente a grande maioria das instâncias do conjunto de teste.\n",
    "\n",
    "## Importância das Características:\n",
    "\n",
    "- A característica population_growthRate teve a maior importância no modelo, com um score de 1.0, o que significa que ela foi o principal fator considerado pelo modelo para as previsões.\n",
    "- As características population_in_2022 e city não tiveram impacto nas previsões do modelo (\n",
    "\n",
    "---\n",
    "---"
   ]
  },
  {
   "cell_type": "markdown",
   "metadata": {},
   "source": [
    "# Algoritmo de Clustering\n",
    "\n",
    "Para esta análise, utilizamos algoritmos de clusterização e regras de associação:\n",
    "\n",
    "- **K-Means**: Este algoritmo é usado para agrupar cidades com base em características semelhantes de crescimento populacional. Os parâmetros chave incluem o número de clusters (determinado pelo método Elbow).\n",
    "\n"
   ]
  },
  {
   "cell_type": "markdown",
   "metadata": {},
   "source": [
    "## Objetivo\n",
    "\n",
    "O objetivo do clustering é identificar padrões no crescimento populacional das cidades ao longo do tempo. Buscamos agrupar cidades que compartilham características semelhantes de crescimento, o que pode auxiliar na identificação de tendências demográficas e no planejamento de recursos e serviços urbanos."
   ]
  },
  {
   "cell_type": "markdown",
   "metadata": {},
   "source": [
    "## Critérios de Seleção de Dados\n",
    "\n",
    "Para o clustering, selecionamos características que são indicativas do crescimento populacional:\n",
    "\n",
    "- population_in_2022: Representa a população das cidades no ano de 2022, fornecendo um ponto de dados para o crescimento recente.\n",
    "- population_growthRate: A taxa de crescimento da população, que é uma medida direta da rapidez com que a população de uma cidade está aumentando ou diminuindo."
   ]
  },
  {
   "cell_type": "markdown",
   "metadata": {},
   "source": [
    "## Preparação dos Dados\n",
    "\n",
    "Os dados foram padronizados para garantir que cada característica contribua igualmente para o resultado do algoritmo K-Means, sem ser influenciada pela escala dos dados. A padronização foi realizada usando StandardScaler do scikit-learn, que subtrai a média e divide pela variância."
   ]
  },
  {
   "cell_type": "markdown",
   "metadata": {},
   "source": [
    "## Aplicação e Avaliação do K-Means\n",
    "\n",
    "- O algoritmo K-Means foi aplicado aos dados padronizados. \n",
    "- Utilizámos o método Elbow para determinar o número ótimo de clusters, minimizando a soma dos quadrados dentro dos clusters (WCSS). \n",
    "- O gráfico do método Elbow foi representado e o ponto de cotovelo foi identificado utilizando a classe KneeLocator"
   ]
  },
  {
   "cell_type": "markdown",
   "metadata": {},
   "source": [
    "## Otimização dos Parâmetros do Algoritmo\n",
    "\n",
    "- Através da análise do método Elbow, determinámos o número ideal de clusters para o algoritmo K-Means. \n",
    "- Este valor é crucial, pois um número muito baixo de clusters pode não capturar a complexidade dos dados, enquanto um número muito alto pode levar a um sobreajuste (overfitting), com clusters que não têm significado prático."
   ]
  },
  {
   "cell_type": "code",
   "execution_count": 57,
   "metadata": {},
   "outputs": [
    {
     "name": "stderr",
     "output_type": "stream",
     "text": [
      "c:\\Users\\diogo\\AppData\\Local\\Programs\\Python\\Python311\\Lib\\site-packages\\sklearn\\cluster\\_kmeans.py:1416: FutureWarning: The default value of `n_init` will change from 10 to 'auto' in 1.4. Set the value of `n_init` explicitly to suppress the warning\n",
      "  super()._check_params_vs_input(X, default_n_init=10)\n",
      "c:\\Users\\diogo\\AppData\\Local\\Programs\\Python\\Python311\\Lib\\site-packages\\sklearn\\cluster\\_kmeans.py:1416: FutureWarning: The default value of `n_init` will change from 10 to 'auto' in 1.4. Set the value of `n_init` explicitly to suppress the warning\n",
      "  super()._check_params_vs_input(X, default_n_init=10)\n",
      "c:\\Users\\diogo\\AppData\\Local\\Programs\\Python\\Python311\\Lib\\site-packages\\sklearn\\cluster\\_kmeans.py:1416: FutureWarning: The default value of `n_init` will change from 10 to 'auto' in 1.4. Set the value of `n_init` explicitly to suppress the warning\n",
      "  super()._check_params_vs_input(X, default_n_init=10)\n",
      "c:\\Users\\diogo\\AppData\\Local\\Programs\\Python\\Python311\\Lib\\site-packages\\sklearn\\cluster\\_kmeans.py:1416: FutureWarning: The default value of `n_init` will change from 10 to 'auto' in 1.4. Set the value of `n_init` explicitly to suppress the warning\n",
      "  super()._check_params_vs_input(X, default_n_init=10)\n",
      "c:\\Users\\diogo\\AppData\\Local\\Programs\\Python\\Python311\\Lib\\site-packages\\sklearn\\cluster\\_kmeans.py:1416: FutureWarning: The default value of `n_init` will change from 10 to 'auto' in 1.4. Set the value of `n_init` explicitly to suppress the warning\n",
      "  super()._check_params_vs_input(X, default_n_init=10)\n",
      "c:\\Users\\diogo\\AppData\\Local\\Programs\\Python\\Python311\\Lib\\site-packages\\sklearn\\cluster\\_kmeans.py:1416: FutureWarning: The default value of `n_init` will change from 10 to 'auto' in 1.4. Set the value of `n_init` explicitly to suppress the warning\n",
      "  super()._check_params_vs_input(X, default_n_init=10)\n",
      "c:\\Users\\diogo\\AppData\\Local\\Programs\\Python\\Python311\\Lib\\site-packages\\sklearn\\cluster\\_kmeans.py:1416: FutureWarning: The default value of `n_init` will change from 10 to 'auto' in 1.4. Set the value of `n_init` explicitly to suppress the warning\n",
      "  super()._check_params_vs_input(X, default_n_init=10)\n",
      "c:\\Users\\diogo\\AppData\\Local\\Programs\\Python\\Python311\\Lib\\site-packages\\sklearn\\cluster\\_kmeans.py:1416: FutureWarning: The default value of `n_init` will change from 10 to 'auto' in 1.4. Set the value of `n_init` explicitly to suppress the warning\n",
      "  super()._check_params_vs_input(X, default_n_init=10)\n",
      "c:\\Users\\diogo\\AppData\\Local\\Programs\\Python\\Python311\\Lib\\site-packages\\sklearn\\cluster\\_kmeans.py:1416: FutureWarning: The default value of `n_init` will change from 10 to 'auto' in 1.4. Set the value of `n_init` explicitly to suppress the warning\n",
      "  super()._check_params_vs_input(X, default_n_init=10)\n",
      "c:\\Users\\diogo\\AppData\\Local\\Programs\\Python\\Python311\\Lib\\site-packages\\sklearn\\cluster\\_kmeans.py:1416: FutureWarning: The default value of `n_init` will change from 10 to 'auto' in 1.4. Set the value of `n_init` explicitly to suppress the warning\n",
      "  super()._check_params_vs_input(X, default_n_init=10)\n"
     ]
    },
    {
     "data": {
      "image/png": "[encoded data removed]",
      "text/plain": [
       "<Figure size 640x480 with 1 Axes>"
      ]
     },
     "metadata": {},
     "output_type": "display_data"
    },
    {
     "name": "stdout",
     "output_type": "stream",
     "text": [
      "O número ótimo de clusters é: 3\n"
     ]
    }
   ],
   "source": [
    "\n",
    "# Escolhendo as colunas para o agrupamento\n",
    "features = ['population_in_2022', 'population_growthRate']\n",
    "X = df[features]\n",
    "\n",
    "# Padronizando os dados\n",
    "scaler = StandardScaler()\n",
    "X_scaled = scaler.fit_transform(X)\n",
    "\n",
    "# Encontrando o número ideal de clusters (k) usando o método Elbow\n",
    "wcss = []\n",
    "for i in range(1, 11):\n",
    "    kmeans = KMeans(n_clusters=i, init='k-means++', random_state=42)\n",
    "    kmeans.fit(X_scaled)\n",
    "    wcss.append(kmeans.inertia_)\n",
    "\n",
    "# Método Elbow\n",
    "plt.plot(range(1, 11), wcss)\n",
    "plt.title('Elbow Method')\n",
    "plt.xlabel('Number of clusters')\n",
    "plt.ylabel('WCSS')\n",
    "plt.show()\n",
    "\n",
    "kl = KneeLocator(range(1, 11), wcss, curve=\"convex\", direction=\"decreasing\")\n",
    "print(f\"O número ótimo de clusters é: {kl.elbow}\")\n"
   ]
  },
  {
   "cell_type": "markdown",
   "metadata": {},
   "source": [
    "# Aplicação do K-Means:"
   ]
  },
  {
   "cell_type": "code",
   "execution_count": 60,
   "metadata": {},
   "outputs": [
    {
     "name": "stderr",
     "output_type": "stream",
     "text": [
      "c:\\Users\\diogo\\AppData\\Local\\Programs\\Python\\Python311\\Lib\\site-packages\\sklearn\\cluster\\_kmeans.py:1416: FutureWarning: The default value of `n_init` will change from 10 to 'auto' in 1.4. Set the value of `n_init` explicitly to suppress the warning\n",
      "  super()._check_params_vs_input(X, default_n_init=10)\n"
     ]
    },
    {
     "data": {
      "text/html": [
       "<div>\n",
       "<style scoped>\n",
       "    .dataframe tbody tr th:only-of-type {\n",
       "        vertical-align: middle;\n",
       "    }\n",
       "\n",
       "    .dataframe tbody tr th {\n",
       "        vertical-align: top;\n",
       "    }\n",
       "\n",
       "    .dataframe thead th {\n",
       "        text-align: right;\n",
       "    }\n",
       "</style>\n",
       "<table border=\"1\" class=\"dataframe\">\n",
       "  <thead>\n",
       "    <tr style=\"text-align: right;\">\n",
       "      <th></th>\n",
       "      <th>city</th>\n",
       "      <th>population_in_2022</th>\n",
       "      <th>population_growthRate</th>\n",
       "      <th>Cluster</th>\n",
       "    </tr>\n",
       "  </thead>\n",
       "  <tbody>\n",
       "    <tr>\n",
       "      <th>0</th>\n",
       "      <td>Tokyo</td>\n",
       "      <td>37274002</td>\n",
       "      <td>-0.0021</td>\n",
       "      <td>1</td>\n",
       "    </tr>\n",
       "    <tr>\n",
       "      <th>1</th>\n",
       "      <td>Delhi</td>\n",
       "      <td>32065760</td>\n",
       "      <td>0.0273</td>\n",
       "      <td>1</td>\n",
       "    </tr>\n",
       "    <tr>\n",
       "      <th>2</th>\n",
       "      <td>Shanghai</td>\n",
       "      <td>28516903</td>\n",
       "      <td>0.0243</td>\n",
       "      <td>1</td>\n",
       "    </tr>\n",
       "    <tr>\n",
       "      <th>3</th>\n",
       "      <td>Dhaka</td>\n",
       "      <td>22478117</td>\n",
       "      <td>0.0325</td>\n",
       "      <td>1</td>\n",
       "    </tr>\n",
       "    <tr>\n",
       "      <th>4</th>\n",
       "      <td>Sao Paulo</td>\n",
       "      <td>22429799</td>\n",
       "      <td>0.0085</td>\n",
       "      <td>1</td>\n",
       "    </tr>\n",
       "  </tbody>\n",
       "</table>\n",
       "</div>"
      ],
      "text/plain": [
       "        city  population_in_2022  population_growthRate  Cluster\n",
       "0      Tokyo            37274002                -0.0021        1\n",
       "1      Delhi            32065760                 0.0273        1\n",
       "2   Shanghai            28516903                 0.0243        1\n",
       "3      Dhaka            22478117                 0.0325        1\n",
       "4  Sao Paulo            22429799                 0.0085        1"
      ]
     },
     "execution_count": 60,
     "metadata": {},
     "output_type": "execute_result"
    }
   ],
   "source": [
    "# Aplica LabelEncoder para converter nomes de cidades em valores numéricos\n",
    "le_city = LabelEncoder()\n",
    "df['city_encoded'] = le_city.fit_transform(df['city'])\n",
    "\n",
    "# Aplica K-Means com o número escolhido de clusters\n",
    "k = 3  # Este é o número ótimo de clusters identificado anteriormente\n",
    "kmeans = KMeans(n_clusters=k, init='k-means++', random_state=42)\n",
    "clusters = kmeans.fit_predict(X_scaled)\n",
    "df['Cluster'] = clusters\n",
    "\n",
    "# Adiciona a coluna de cluster ao dataframe e revertendo a codificação das cidades\n",
    "df['city'] = le_city.inverse_transform(df['city_encoded'])\n",
    "\n",
    "# Remove a coluna 'city_encoded' pois já cumprimos o seu propósito\n",
    "df.drop('city_encoded', axis=1, inplace=True)\n",
    "\n",
    "# Organiza as colunas para exibição\n",
    "df_final = df[['city', 'population_in_2022', 'population_growthRate', 'Cluster']]\n",
    "\n",
    "# Exibe as primeiras linhas do DataFrame\n",
    "df_final.head()"
   ]
  },
  {
   "cell_type": "markdown",
   "metadata": {},
   "source": [
    "# Representação Gráfica da aplicação do K-MEANS:"
   ]
  },
  {
   "cell_type": "code",
   "execution_count": 46,
   "metadata": {},
   "outputs": [
    {
     "data": {
      "image/png": "[encoded data removed]",
      "text/plain": [
       "<Figure size 1000x600 with 1 Axes>"
      ]
     },
     "metadata": {},
     "output_type": "display_data"
    }
   ],
   "source": [
    "# Choose two dimensions to plot (e.g., population_in_2022 and population_growthRate)\n",
    "plt.figure(figsize=(10, 6))\n",
    "plt.scatter(X_scaled[:,0], X_scaled[:,1], c=clusters, cmap='plasma', marker='x')\n",
    "plt.title('Visualization of clustered data', fontsize=14)\n",
    "plt.xlabel('Population_in_2022', fontsize=12)\n",
    "plt.ylabel('Population_growthRate', fontsize=12)\n",
    "plt.show()"
   ]
  },
  {
   "cell_type": "markdown",
   "metadata": {},
   "source": [
    "# Cálcular estatisticas com base nos dados providenciados pelo K-Means:"
   ]
  },
  {
   "cell_type": "code",
   "execution_count": 43,
   "metadata": {},
   "outputs": [
    {
     "name": "stdout",
     "output_type": "stream",
     "text": [
      "   Cluster Population Mean Population Median Growth Rate Mean  \\\n",
      "0        0       1,940,489         1,370,131            1.17%   \n",
      "1        1      15,667,860        13,964,637            1.75%   \n",
      "2        2       1,890,860         1,245,790            3.26%   \n",
      "\n",
      "  Growth Rate Median  \n",
      "0              1.35%  \n",
      "1              1.62%  \n",
      "2              2.99%  \n"
     ]
    },
    {
     "name": "stderr",
     "output_type": "stream",
     "text": [
      "c:\\Users\\diogo\\AppData\\Local\\Programs\\Python\\Python311\\Lib\\site-packages\\sklearn\\cluster\\_kmeans.py:1416: FutureWarning: The default value of `n_init` will change from 10 to 'auto' in 1.4. Set the value of `n_init` explicitly to suppress the warning\n",
      "  super()._check_params_vs_input(X, default_n_init=10)\n"
     ]
    }
   ],
   "source": [
    "# Convertendo a coluna 'city' para numérica\n",
    "le = LabelEncoder()\n",
    "df['city'] = le.fit_transform(df['city'])\n",
    "\n",
    "# Selecionando as colunas relevantes\n",
    "features = df[['population_in_2022', 'population_growthRate']]\n",
    "\n",
    "# Padronizando as features\n",
    "scaler = StandardScaler()\n",
    "features_scaled = scaler.fit_transform(features)\n",
    "\n",
    "# Aplicando o K-Means\n",
    "kmeans = KMeans(n_clusters=3, random_state=42)\n",
    "df['Cluster'] = kmeans.fit_predict(features_scaled)\n",
    "\n",
    "# Calculando estatísticas descritivas para cada cluster\n",
    "cluster_stats = df.groupby('Cluster').agg({\n",
    "    'population_in_2022': ['mean', 'median'],\n",
    "    'population_growthRate': ['mean', 'median']\n",
    "}).reset_index()\n",
    "\n",
    "# Renomeamos as colunas para melhor clareza\n",
    "cluster_stats.columns = ['Cluster', 'Population Mean', 'Population Median', 'Growth Rate Mean', 'Growth Rate Median']\n",
    "\n",
    "# Convertendo taxas de crescimento para percentagem e formatando para melhor legibilidade\n",
    "cluster_stats['Population Mean'] = cluster_stats['Population Mean'].apply(lambda x: '{:,.0f}'.format(x))\n",
    "cluster_stats['Population Median'] = cluster_stats['Population Median'].apply(lambda x: '{:,.0f}'.format(x))\n",
    "cluster_stats['Growth Rate Mean'] = cluster_stats['Growth Rate Mean'].apply(lambda x: '{:.2%}'.format(x))\n",
    "cluster_stats['Growth Rate Median'] = cluster_stats['Growth Rate Median'].apply(lambda x: '{:.2%}'.format(x))\n",
    "\n",
    "# Imprimimos as estatísticas formatadas\n",
    "print(cluster_stats)"
   ]
  },
  {
   "cell_type": "markdown",
   "metadata": {},
   "source": [
    "# Conclusão sobre as estatísticas\n",
    "## Tamanho da população\n",
    "- O Cluster 1 destaca-se com uma média e mediana de população significativamente mais alta do que os outros clusters. Isto sugere que este cluster pode estar a agrupar as cidades mais populosas.\n",
    "## Taxas de Crescimento\n",
    "- O Cluster 2 apresenta a maior taxa média de crescimento da população (3.26%) e também a maior mediana (2.99%), indicando que as cidades deste cluster estão crescendo mais rapidamente do que as dos outros clusters.\n",
    "- O Cluster 0 tem a menor taxa média e mediana de crescimento (1.17% e 1.35%, respectivamente), o que sugere que este cluster pode incluir cidades com crescimento populacional lento ou estagnado.\n",
    "- O Cluster 1, apesar de ter as cidades mais populosas, tem uma taxa de crescimento moderada (1.75% de média e 1.62% de mediana).\n",
    "\n"
   ]
  },
  {
   "cell_type": "markdown",
   "metadata": {},
   "source": [
    "---\n",
    "---\n",
    "\n",
    "\n",
    "# Regras de Associação"
   ]
  },
  {
   "cell_type": "markdown",
   "metadata": {},
   "source": [
    "# Objetivo\n",
    "\n",
    "O objetivo do projeto é identificar padrões e associações significativas entre as cidades e as linhas de produtos num conjunto de dados de vendas. Este objetivo visa compreender as preferências de compra específicas de diferentes regiões, o que pode ajudar na otimização de estratégias de marketing e gestão de inventário."
   ]
  },
  {
   "cell_type": "markdown",
   "metadata": {},
   "source": [
    "# Critérios de Seleção de Dados\n",
    "\n",
    "Os dados foram escolhidos tendo em conta a sua relevância para o objetivo do estudo. As variáveis 'City' e 'Product line' foram selecionadas para explorar associações entre a localização geográfica dos clientes e os produtos adquiridos."
   ]
  },
  {
   "cell_type": "markdown",
   "metadata": {},
   "source": [
    "# Preparação de Dados:\n",
    "\n",
    "Os dados nas colunas 'City' e 'Product line' foram convertidos para o formato de string.\n",
    "\n",
    "Foi aplicada a codificação one-hot às variáveis categóricas 'City' e 'Product line', transformando-as em formato binário.\n",
    "\n",
    "Os dados one-hot das cidades e das linhas de produtos foram combinados num único dataframe para análise."
   ]
  },
  {
   "cell_type": "markdown",
   "metadata": {},
   "source": [
    "# Aplicação e Avaliação do Algoritmo Apriori:\n",
    "\n",
    "O algoritmo Apriori foi aplicado ao conjunto de dados combinado com um suporte mínimo de 0.01.\n",
    "\n",
    "Foram geradas regras de associação com um limiar de confiança entre 0.3 a 0.5.\n",
    "\n",
    "As regras foram avaliadas com base em métricas como suporte, confiança e lift, proporcionando insights sobre a força e relevância das associações encontradas."
   ]
  },
  {
   "cell_type": "code",
   "execution_count": 69,
   "metadata": {},
   "outputs": [],
   "source": [
    "# Carregar o conjunto de dados de vendas do supermercado\n",
    "data = pd.read_csv('./supermarket_sales.csv')"
   ]
  },
  {
   "cell_type": "markdown",
   "metadata": {},
   "source": [
    "### Analisar se um tipo específico de cliente (membros e normal) tende a comprar certas linhas de produtos mais frequentemente."
   ]
  },
  {
   "cell_type": "code",
   "execution_count": 70,
   "metadata": {},
   "outputs": [
    {
     "name": "stdout",
     "output_type": "stream",
     "text": [
      "                antecedents consequents  support  confidence      lift\n",
      "0  (Electronic accessories)    (Normal)    0.092    0.541176  1.084522\n",
      "1     (Fashion accessories)    (Normal)    0.092    0.516854  1.035779\n",
      "2      (Food and beverages)    (Member)    0.094    0.540230  1.078303\n",
      "3       (Health and beauty)    (Normal)    0.079    0.519737  1.041557\n",
      "4      (Home and lifestyle)    (Member)    0.083    0.518750  1.035429\n",
      "5       (Sports and travel)    (Member)    0.087    0.524096  1.046101\n"
     ]
    },
    {
     "name": "stderr",
     "output_type": "stream",
     "text": [
      "c:\\Users\\diogo\\AppData\\Local\\Programs\\Python\\Python311\\Lib\\site-packages\\mlxtend\\frequent_patterns\\fpcommon.py:109: DeprecationWarning: DataFrames with non-bool types result in worse computationalperformance and their support might be discontinued in the future.Please use a DataFrame with bool type\n",
      "  warnings.warn(\n"
     ]
    }
   ],
   "source": [
    "# Preparar os dados\n",
    "data['Product line'] = data['Product line'].astype(str)\n",
    "data['Customer type'] = data['Customer type'].astype(str)\n",
    "data_grouped = data.groupby(['Invoice ID']).agg({'Product line': lambda x: ','.join(x),\n",
    "                                                 'Customer type': 'first'}).reset_index()\n",
    "\n",
    "# Transformar 'Product line' para o formato one-hot encoding\n",
    "data_product_line_onehot = data_grouped['Product line'].str.get_dummies(sep=',')\n",
    "\n",
    "# Transformar 'Customer type' para o formato one-hot encoding\n",
    "data_customer_type_onehot = pd.get_dummies(data_grouped['Customer type'])\n",
    "\n",
    "# Combinar os dados one-hot\n",
    "data_combined_onehot = pd.concat([data_product_line_onehot, data_customer_type_onehot], axis=1)\n",
    "\n",
    "# Aplicar o algoritmo Apriori\n",
    "freq_itemsets = apriori(data_combined_onehot, min_support=0.01, use_colnames=True)\n",
    "\n",
    "# Gerar regras de associação\n",
    "rules = association_rules(freq_itemsets, metric=\"confidence\", min_threshold=0.5)\n",
    "print(rules[['antecedents', 'consequents', 'support', 'confidence', 'lift']])"
   ]
  },
  {
   "cell_type": "markdown",
   "metadata": {},
   "source": [
    "#### Leitura dos dados obtidos:\n",
    "\n",
    "- Electronic accessories têm uma forte associação com compras de clientes Normal:\n",
    "\n",
    "O suporte (support) é de aproximadamente 9,2%, o que indica que cerca de 9,2% das transações incluem tanto \"Electronic accessories\" quanto clientes \"Normal\".\n",
    "A confiança (confidence) é de cerca de 54,1%, o que sugere que quando \"Electronic accessories\" estão presentes, há uma probabilidade de 54,1% de o cliente ser \"Normal\".\n",
    "O lift é ligeiramente maior que 1 (aproximadamente 1,08), o que sugere que a compra de \"Electronic accessories\" está ligeiramente associada a clientes \"Normal\". No entanto, o lift não é muito alto, indicando uma associação moderada."
   ]
  },
  {
   "cell_type": "markdown",
   "metadata": {},
   "source": [
    "---\n",
    "\n",
    "### Verificar se há uma preferência de método de pagamento (por exemplo, dinheiro, cartão de crédito) que varia entre géneros."
   ]
  },
  {
   "cell_type": "code",
   "execution_count": 71,
   "metadata": {},
   "outputs": [
    {
     "name": "stdout",
     "output_type": "stream",
     "text": [
      "     antecedents consequents  support  confidence      lift\n",
      "0         (Cash)    (Female)    0.178    0.517442  1.032818\n",
      "1  (Credit card)    (Female)    0.163    0.524116  1.046139\n",
      "2      (Ewallet)      (Male)    0.185    0.536232  1.074613\n"
     ]
    },
    {
     "name": "stderr",
     "output_type": "stream",
     "text": [
      "c:\\Users\\diogo\\AppData\\Local\\Programs\\Python\\Python311\\Lib\\site-packages\\mlxtend\\frequent_patterns\\fpcommon.py:109: DeprecationWarning: DataFrames with non-bool types result in worse computationalperformance and their support might be discontinued in the future.Please use a DataFrame with bool type\n",
      "  warnings.warn(\n"
     ]
    }
   ],
   "source": [
    "# Preparar os dados\n",
    "data['Product line'] = data['Product line'].astype(str)\n",
    "data['Customer type'] = data['Customer type'].astype(str)\n",
    "data_grouped = data.groupby(['Invoice ID']).agg({'Payment': lambda x: ','.join(x),\n",
    "                                                 'Gender': 'first'}).reset_index()\n",
    "\n",
    "# Transformar 'Product line' para o formato one-hot encoding\n",
    "data_gender_onehot = data_grouped['Gender'].str.get_dummies(sep=',')\n",
    "\n",
    "# Transformar 'Customer type' para o formato one-hot encoding\n",
    "data_payment_onehot = pd.get_dummies(data_grouped['Payment'])\n",
    "\n",
    "# Combinar os dados one-hot\n",
    "data_combined_onehot = pd.concat([data_gender_onehot, data_payment_onehot], axis=1)\n",
    "\n",
    "# Aplicar o algoritmo Apriori\n",
    "\n",
    "freq_itemsets = apriori(data_combined_onehot, min_support=0.01, use_colnames=True)\n",
    "\n",
    "# Gerar regras de associação\n",
    "rules = association_rules(freq_itemsets, metric=\"confidence\", min_threshold=0.5)\n",
    "print(rules[['antecedents', 'consequents', 'support', 'confidence', 'lift']])"
   ]
  },
  {
   "cell_type": "markdown",
   "metadata": {},
   "source": [
    "#### Leitura de dados:\n",
    "\n",
    "- O método de pagamento Cash está associado a clientes do gênero Female:\n",
    "\n",
    "- O suporte (support) é de aproximadamente 17,8%, o que indica que cerca de 17,8% das transações incluem tanto o método de pagamento \"Cash\" quanto clientes do género \"Female\".\n",
    "- A confiança (confidence) é de aproximadamente 51,7%, o que sugere que quando o método de pagamento é \"Cash\", há uma probabilidade de 51,7% de o cliente ser do género \"Female\".\n",
    "- O lift é ligeiramente maior que 1 (aproximadamente 1,03), o que indica uma associação moderada entre o método de pagamento \"Cash\" e clientes do género \"Female\"."
   ]
  },
  {
   "cell_type": "markdown",
   "metadata": {},
   "source": [
    "---\n",
    "\n",
    "### Analisar se certas linhas de produtos são mais populares em determinadas cidades."
   ]
  },
  {
   "cell_type": "code",
   "execution_count": 72,
   "metadata": {},
   "outputs": [
    {
     "name": "stdout",
     "output_type": "stream",
     "text": [
      "                 antecedents  consequents  support  confidence      lift\n",
      "0   (Electronic accessories)   (Mandalay)    0.055    0.323529  0.974486\n",
      "1      (Fashion accessories)   (Mandalay)    0.062    0.348315  1.049140\n",
      "2        (Health and beauty)   (Mandalay)    0.053    0.348684  1.050254\n",
      "3       (Home and lifestyle)   (Mandalay)    0.050    0.312500  0.941265\n",
      "4        (Sports and travel)   (Mandalay)    0.062    0.373494  1.124982\n",
      "5   (Electronic accessories)  (Naypyitaw)    0.055    0.323529  0.986370\n",
      "6      (Fashion accessories)  (Naypyitaw)    0.065    0.365169  1.113319\n",
      "7       (Food and beverages)  (Naypyitaw)    0.066    0.379310  1.156434\n",
      "8        (Health and beauty)  (Naypyitaw)    0.052    0.342105  1.043004\n",
      "9   (Electronic accessories)     (Yangon)    0.060    0.352941  1.038062\n",
      "10      (Food and beverages)     (Yangon)    0.058    0.333333  0.980392\n",
      "11       (Health and beauty)     (Yangon)    0.047    0.309211  0.909443\n",
      "12      (Home and lifestyle)     (Yangon)    0.065    0.406250  1.194853\n",
      "13       (Sports and travel)     (Yangon)    0.059    0.355422  1.045358\n"
     ]
    }
   ],
   "source": [
    "# Transformar 'City' e 'Product line' para o formato one-hot encoding\n",
    "data_city_onehot = pd.get_dummies(data['City'])\n",
    "data_product_line_onehot = pd.get_dummies(data['Product line'])\n",
    "\n",
    "# Combinar os dados one-hot\n",
    "data_combined_onehot = pd.concat([data_city_onehot, data_product_line_onehot], axis=1)\n",
    "\n",
    "# Aplicar o algoritmo Apriori\n",
    "min_support = 0.01\n",
    "freq_itemsets = apriori(data_combined_onehot, min_support=min_support, use_colnames=True)\n",
    "\n",
    "# Gerar regras de associação\n",
    "rules = association_rules(freq_itemsets, metric=\"confidence\", min_threshold=0.3)\n",
    "print(rules[['antecedents', 'consequents', 'support', 'confidence', 'lift']])"
   ]
  },
  {
   "cell_type": "markdown",
   "metadata": {},
   "source": [
    "#### Leitura resultados obtidos:\n",
    "\n",
    "Mandalay tem uma associação relativamente fraca com várias categorias de produtos:\n",
    "\n",
    "- As categorias de produtos, como \"Electronic accessories,\" \"Fashion accessories,\" \"Health and beauty,\" e \"Sports and travel,\" têm confiança em torno de 32% a 37% em relação a Mandalay.\n",
    "- O lift varia de aproximadamente 0,94 a 1,12, indicando associações não muito fortes. Isso sugere que essas categorias de produtos não estão fortemente associadas à cidade de Mandalay.\n",
    "\n",
    "Naypyitaw tem associações mais fortes com algumas categorias de produtos:\n",
    "\n",
    "- As categorias de produtos, como \"Fashion accessories,\" \"Food and beverages,\" e \"Health and beauty,\" têm confiança acima de 34% em relação a Naypyitaw.\n",
    "- O lift varia de aproximadamente 1,11 a 1,16, indicando associações moderadas a fortes. Isso sugere que essas categorias de produtos estão mais associadas à cidade de Naypyitaw.\n",
    "\n",
    "Yangon tem associações variadas com diferentes categorias de produtos:\n",
    "\n",
    "- A categoria \"Home and lifestyle\" tem uma confiança de aproximadamente 41% em relação a Yangon, com um lift de cerca de 1,19, indicando uma associação moderada.\n",
    "- Outras categorias de produtos, como \"Electronic accessories,\" \"Food and beverages,\" e \"Sports and travel,\" têm associações mais fracas com Yangon, com confiança em torno de 31% a 36% e lifts próximos a 1."
   ]
  },
  {
   "cell_type": "markdown",
   "metadata": {},
   "source": [
    "---\n",
    "\n",
    "# Conclusão\n",
    "\n",
    "\n",
    "- A escolha de um dataset relevante e representativo é fundamental para a análise. O projeto reforçou a importância de trabalhar com dados abrangentes e atualizados para obter resultados precisos e significativos.\n",
    "\n",
    "- O uso de Random Forest e Decision Tree Classifier demonstrou a eficácia desses algoritmos em classificar dados complexos. A configuração e ajuste desses algoritmos ressaltou a necessidade de equilibrar precisão e complexidade.\n",
    "\n",
    "- O projeto foi uma oportunidade valiosa para desenvolver habilidades técnicas em análise de dados e compreensão profunda de modelos de machine learning.\n",
    "\n"
   ]
  }
 ],
 "metadata": {
  "kernelspec": {
   "display_name": "Python 3",
   "language": "python",
   "name": "python3"
  },
  "language_info": {
   "codemirror_mode": {
    "name": "ipython",
    "version": 3
   },
   "file_extension": ".py",
   "mimetype": "text/x-python",
   "name": "python",
   "nbconvert_exporter": "python",
   "pygments_lexer": "ipython3",
   "version": "3.11.2"
  }
 },
 "nbformat": 4,
 "nbformat_minor": 2
}
